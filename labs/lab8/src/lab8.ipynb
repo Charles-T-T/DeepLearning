{
 "cells": [
  {
   "cell_type": "markdown",
   "metadata": {},
   "source": [
    "调用智谱ai的 `glm-4v-flash` 模型"
   ]
  },
  {
   "cell_type": "code",
   "execution_count": 1,
   "metadata": {},
   "outputs": [],
   "source": [
    "from zhipuai import ZhipuAI\n",
    "\n",
    "client = ZhipuAI(api_key=\"659b6a52115e4c7ba6a1ffcfe107ce74.JLtjL3ijzR6WT7CR\")\n",
    "\n",
    "def chat(query):\n",
    "    response = client.chat.completions.create(\n",
    "        model=\"glm-4v-flash\", messages=[{\"role\": \"user\", \"content\": query}]\n",
    "    )\n",
    "    return response.choices[0].message.content"
   ]
  },
  {
   "cell_type": "markdown",
   "metadata": {},
   "source": [
    "结合智谱ai，按要求修改论文信息"
   ]
  },
  {
   "cell_type": "code",
   "execution_count": 2,
   "metadata": {},
   "outputs": [],
   "source": [
    "def abbreviate_name(full_name):\n",
    "    \"\"\"获取一个名字的简写\n",
    "\n",
    "    Args:\n",
    "        full_name (str): 姓名全拼\n",
    "\n",
    "    Returns:\n",
    "        str: 简写后的姓名，名在前、姓在后\n",
    "    \"\"\"\n",
    "    parts = full_name.strip().split()\n",
    "    if len(parts) < 2:\n",
    "        return full_name\n",
    "\n",
    "    first_names, last_name = parts[:-1], parts[-1]\n",
    "    abb_first_names = [name[0].upper() for name in first_names]\n",
    "    abb_name = \"\"\n",
    "    for name in abb_first_names:\n",
    "        abb_name += name + \". \"\n",
    "    abb_name += last_name.capitalize()\n",
    "    return abb_name"
   ]
  },
  {
   "cell_type": "code",
   "execution_count": 19,
   "metadata": {},
   "outputs": [],
   "source": [
    "import json\n",
    "\n",
    "prompt = \"\"\"下面是一个表示论文信息的dist，你需要对它进行一些修改，然后按照原格式返回，要求如下，你要一步步实现：\n",
    "1. 作者姓名格式转换：请将作者姓名简写，名在前，姓在后\n",
    "2. 合并字符串：将简写后的作者姓名合并为一个字符串，作者之间用逗号连接，如果多于三个作者，用“et.al”表示剩余作者\n",
    "3. 关键词提取：TMLR的keywords字段都是空字符串，请根据TMLR论文的摘要，为每篇论文提取总结三个keywords\n",
    "4. 代码链接提取：如果摘要中提到代码链接（如GitHub链接），将其提取出来并存储在新的字段“Code_src”中，如果摘要没有提供链接，“Code_src”字段为空\n",
    "5. 摘要扩展：基于摘要内容，扩展一个简单的“Introduction”，简要介绍论文的背景、研究问题、方法和主要贡献\n",
    "6. 论文主题分析：请根据论文的关键词字段对论文进行聚类分析，按研究主题将论文分为多个组，并为每篇论文分配一个主题标签，生成“Topic”字段，标明该论文属于哪个研究主题（如“生成模型”、“图像识别”、“强化学习”等）\n",
    "\n",
    "将你返回的结果用<start>和<end>标记起来，如：<start>返回结果<end>。\n",
    "待修改的论文信息如下：\n",
    "\"\"\"\n",
    "\n",
    "\n",
    "def modify_paper_metadata(paper):\n",
    "    \"\"\"按要求修改论文信息\n",
    "\n",
    "    Args:\n",
    "        paper (dict): 待修改的论文信息（json文件中各个对象）\n",
    "\n",
    "    Returns:\n",
    "        dict: 修改后的论文信息\n",
    "    \"\"\"\n",
    "    # 1. 作者姓名格式转换\n",
    "    authors = paper[\"authors\"]\n",
    "    new_authors = [abbreviate_name(author) for author in authors[:3]]\n",
    "\n",
    "    # 2. 合并字符串\n",
    "    authers_str = \", \".join(new_authors)\n",
    "    if len(authors) > 3:\n",
    "        authers_str += \", et.al\"\n",
    "    paper[\"authors\"] = authers_str\n",
    "\n",
    "    # 3. 关键词提取\n",
    "    if \"TMLR\" in paper[\"venue\"]:\n",
    "        keywords = chat(\n",
    "            \"请根据下面的论文摘要，提取总结三个关键词（英文），按这种格式输出：word1, word2, word3\\n\"\n",
    "            + paper[\"abstract\"]\n",
    "        )\n",
    "        # print(f\"ai keywords: {keywords}\")\n",
    "        paper[\"keywords\"] = keywords.split(\", \")\n",
    "\n",
    "    # 4. 代码链接提取\n",
    "    have_code_src = chat(\n",
    "        \"检查下面的论文摘要，其中是否提供了代码链接（如GitHub链接）？提供了则回答True，否则回答False：\\n\"\n",
    "        + paper[\"abstract\"]\n",
    "    )\n",
    "    if have_code_src == \"True\":\n",
    "        code_src = chat(\n",
    "            \"根据下面的论文摘要，提取代码链接（如GitHub链接），直接返回链接：\\n\"\n",
    "            + paper[\"abstract\"]\n",
    "        )\n",
    "    else:\n",
    "        code_src = \"\"\n",
    "    paper[\"Code_src\"] = code_src\n",
    "\n",
    "    # 5. 摘要扩展\n",
    "    introduction = chat(\n",
    "        \"根据下面的论文摘要，简单总结介绍一下论文的背景、研究问题、方法和主要贡献（用英文）：\\n\"\n",
    "        + paper[\"abstract\"]\n",
    "    )\n",
    "    paper[\"Introduction\"] = introduction\n",
    "\n",
    "    return paper"
   ]
  },
  {
   "cell_type": "markdown",
   "metadata": {},
   "source": [
    "开始处理原 `json` 中的各论文信息\n",
    "> 由于论文数量过多，而每次调用智谱api、等待其返回内容存在一定网络延迟，如果处理整个 `paper_metadata_1212_10k.json` 耗时会非常长，故这里只处理前1000条信息，并将修改后的结果保存到 `result.json` 中"
   ]
  },
  {
   "cell_type": "code",
   "execution_count": 20,
   "metadata": {},
   "outputs": [
    {
     "name": "stdout",
     "output_type": "stream",
     "text": [
      "Processed 1/10526 papers done.\n",
      "Processed 2/10526 papers done.\n",
      "Processed 3/10526 papers done.\n",
      "Processed 4/10526 papers done.\n",
      "Processed 5/10526 papers done.\n",
      "Processed 6/10526 papers done.\n",
      "Processed 7/10526 papers done.\n",
      "Processed 8/10526 papers done.\n",
      "Processed 9/10526 papers done.\n",
      "Processed 10/10526 papers done.\n"
     ]
    }
   ],
   "source": [
    "input_file = \"paper_metadata_1212_10k.json\"\n",
    "output_file = \"result.json\"\n",
    "\n",
    "# 读取JSON文件\n",
    "with open(input_file, \"r\", encoding=\"utf-8\") as f:\n",
    "    data = json.load(f)\n",
    "\n",
    "# 对每个对象(paper)进行修改\n",
    "modified_data = []\n",
    "for i, paper in enumerate(data):\n",
    "    modified_paper = modify_paper_metadata(paper)\n",
    "    modified_data.append(modified_paper)\n",
    "    print(f\"Processed {i+1}/{len(data)} papers done.\")\n",
    "    if i + 1 >= 10:\n",
    "        break"
   ]
  },
  {
   "cell_type": "markdown",
   "metadata": {},
   "source": [
    "根据 `keywords` 对论文进行聚类分析"
   ]
  },
  {
   "cell_type": "code",
   "execution_count": 21,
   "metadata": {},
   "outputs": [
    {
     "data": {
      "text/plain": [
       "[['language modeling', 'memorization', 'dataset contamination'],\n",
       " ['architecture adaptation', 'expressivity bottleneck', 'neural network'],\n",
       " ['data-centric', 'model inversion attack', 'privacy preservation'],\n",
       " ['PreLowD', 'Factorized Fourier Neural Operator', 'Fine-tuning'],\n",
       " ['bootstrap', 'uncertainty quantification', 'survival analysis'],\n",
       " ['causal modeling', 'diffusion models', 'counterfactual inference'],\n",
       " ['Disentangled Representation Network',\n",
       "  'Individualized Dose-Response Function',\n",
       "  'Selection Bias Adjustment'],\n",
       " ['synthetic images', 'knowledge distillation', 'feature distillation'],\n",
       " ['DL rankers', 'Learning-to-Rank', 'tabular data'],\n",
       " ['calibration attack', 'adversarial defense', 'model uncertainty']]"
      ]
     },
     "execution_count": 21,
     "metadata": {},
     "output_type": "execute_result"
    }
   ],
   "source": [
    "from langchain.embeddings import OpenAIEmbeddings\n",
    "from langchain.vectorstores import FAISS\n",
    "from langchain.llms import OpenAI\n",
    "from sklearn.cluster import KMeans\n",
    "\n",
    "keywords_list = [paper[\"keywords\"] for paper in modified_data]\n",
    "keywords_list"
   ]
  },
  {
   "cell_type": "code",
   "execution_count": 27,
   "metadata": {},
   "outputs": [],
   "source": [
    "import matplotlib.pyplot as plt\n",
    "from sklearn.cluster import KMeans\n",
    "from sklearn.metrics import silhouette_score\n",
    "\n",
    "# 确定最佳簇数（肘部法）\n",
    "def determine_optimal_clusters(data, max_clusters=10):\n",
    "    sse = []\n",
    "    for k in range(1, max_clusters + 1):\n",
    "        kmeans = KMeans(n_clusters=k, random_state=42)\n",
    "        kmeans.fit(data)\n",
    "        sse.append(kmeans.inertia_)\n",
    "\n",
    "    plt.plot(range(1, max_clusters + 1), sse, marker=\"o\")\n",
    "    plt.xlabel(\"Number of clusters\")\n",
    "    plt.ylabel(\"SSE\")\n",
    "    plt.title(\"Elbow Method\")\n",
    "    plt.show()\n",
    "\n",
    "\n",
    "# 确定最佳簇数（轮廓系数法）\n",
    "# TODO 有bug\n",
    "def determine_optimal_clusters_silhouette(data, max_clusters=10):\n",
    "    silhouette_scores = []\n",
    "    for k in range(2, min(max_clusters, len(data)) + 1):\n",
    "        kmeans = KMeans(n_clusters=k, random_state=42)\n",
    "        kmeans.fit(data)\n",
    "        score = silhouette_score(data, kmeans.labels_)\n",
    "        silhouette_scores.append(score)\n",
    "\n",
    "    plt.plot(range(2, min(max_clusters, len(data)) + 1), silhouette_scores, marker=\"o\")\n",
    "    plt.xlabel(\"Number of clusters\")\n",
    "    plt.ylabel(\"Silhouette Score\")\n",
    "    plt.title(\"Silhouette Method\")\n",
    "    plt.show()"
   ]
  },
  {
   "cell_type": "code",
   "execution_count": 29,
   "metadata": {},
   "outputs": [],
   "source": [
    "# 将每篇论文的关键词列表转换为字符串\n",
    "documents = [\" \".join(keywords) for keywords in keywords_list]\n",
    "\n",
    "# 使用LangChain的OpenAIEmbeddings将关键词转换为向量\n",
    "embeddings_model = OpenAIEmbeddings()\n",
    "embeddings = embeddings_model.embed_documents(documents)\n",
    "\n",
    "# # 使用FAISS进行向量存储和检索\n",
    "# vector_store = FAISS(embeddings, documents)\n",
    "\n",
    "# # 从向量存储中获取嵌入向量\n",
    "# embeddings = vector_store.get_all_vectors()\n",
    "\n"
   ]
  },
  {
   "cell_type": "code",
   "execution_count": 30,
   "metadata": {},
   "outputs": [
    {
     "data": {
      "image/png": "[encoded data removed]",
      "text/plain": [
       "<Figure size 640x480 with 1 Axes>"
      ]
     },
     "metadata": {},
     "output_type": "display_data"
    }
   ],
   "source": [
    "# 确定最佳簇数\n",
    "determine_optimal_clusters(embeddings)"
   ]
  },
  {
   "cell_type": "code",
   "execution_count": 31,
   "metadata": {},
   "outputs": [
    {
     "name": "stdout",
     "output_type": "stream",
     "text": [
      "论文 1 的聚类标签: 2\n",
      "论文 2 的聚类标签: 0\n",
      "论文 3 的聚类标签: 1\n",
      "论文 4 的聚类标签: 0\n",
      "论文 5 的聚类标签: 1\n",
      "论文 6 的聚类标签: 1\n",
      "论文 7 的聚类标签: 0\n",
      "论文 8 的聚类标签: 2\n",
      "论文 9 的聚类标签: 2\n",
      "论文 10 的聚类标签: 1\n",
      "\n",
      "聚类 2 包含的论文关键词:\n",
      "['language modeling', 'memorization', 'dataset contamination']\n",
      "['synthetic images', 'knowledge distillation', 'feature distillation']\n",
      "['DL rankers', 'Learning-to-Rank', 'tabular data']\n",
      "\n",
      "聚类 0 包含的论文关键词:\n",
      "['architecture adaptation', 'expressivity bottleneck', 'neural network']\n",
      "['PreLowD', 'Factorized Fourier Neural Operator', 'Fine-tuning']\n",
      "['Disentangled Representation Network', 'Individualized Dose-Response Function', 'Selection Bias Adjustment']\n",
      "\n",
      "聚类 1 包含的论文关键词:\n",
      "['data-centric', 'model inversion attack', 'privacy preservation']\n",
      "['bootstrap', 'uncertainty quantification', 'survival analysis']\n",
      "['causal modeling', 'diffusion models', 'counterfactual inference']\n",
      "['calibration attack', 'adversarial defense', 'model uncertainty']\n"
     ]
    }
   ],
   "source": [
    "# 使用KMeans进行聚类\n",
    "num_clusters = 3  # TODO 确定最佳簇数\n",
    "kmeans = KMeans(n_clusters=num_clusters, random_state=42)\n",
    "kmeans.fit(embeddings)\n",
    "\n",
    "# 获取每篇论文的聚类标签\n",
    "labels = kmeans.labels_\n",
    "\n",
    "# 输出聚类结果\n",
    "for i, label in enumerate(labels):\n",
    "    print(f\"论文 {i+1} 的聚类标签: {label}\")\n",
    "\n",
    "# 如果需要将聚类结果按标签分组\n",
    "clusters = {}\n",
    "for i, label in enumerate(labels):\n",
    "    if label not in clusters:\n",
    "        clusters[label] = []\n",
    "    clusters[label].append(keywords_list[i])\n",
    "\n",
    "# 输出每个聚类的论文关键词\n",
    "for label, cluster in clusters.items():\n",
    "    print(f\"\\n聚类 {label} 包含的论文关键词:\")\n",
    "    for keywords in cluster:\n",
    "        print(keywords)"
   ]
  },
  {
   "cell_type": "code",
   "execution_count": 32,
   "metadata": {},
   "outputs": [],
   "source": [
    "# TODO 添加Topic字段\n",
    "# 将修改后的内容写入新的JSON文件\n",
    "with open(output_file, \"w\", encoding=\"utf-8\") as f:\n",
    "    json.dump(modified_data, f, ensure_ascii=False, indent=4)"
   ]
  }
 ],
 "metadata": {
  "kernelspec": {
   "display_name": "ChatRolePlay",
   "language": "python",
   "name": "python3"
  },
  "language_info": {
   "codemirror_mode": {
    "name": "ipython",
    "version": 3
   },
   "file_extension": ".py",
   "mimetype": "text/x-python",
   "name": "python",
   "nbconvert_exporter": "python",
   "pygments_lexer": "ipython3",
   "version": "3.10.15"
  }
 },
 "nbformat": 4,
 "nbformat_minor": 2
}
