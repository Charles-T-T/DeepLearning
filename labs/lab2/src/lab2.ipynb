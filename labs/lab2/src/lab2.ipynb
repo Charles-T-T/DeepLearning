{
 "cells": [
  {
   "cell_type": "code",
   "execution_count": 16,
   "metadata": {},
   "outputs": [],
   "source": [
    "import torch\n",
    "import torch.nn as nn\n",
    "import torch.optim as optim\n",
    "import torch.nn.functional as F"
   ]
  },
  {
   "cell_type": "code",
   "execution_count": 17,
   "metadata": {},
   "outputs": [],
   "source": [
    "# 数据准备（xor计算的四种输入输出）\n",
    "x = torch.tensor([[0, 0], [0, 1], [1, 1], [1, 0]], dtype=torch.float32)\n",
    "y = torch.tensor([[0], [1], [0], [1]], dtype=torch.float32)"
   ]
  },
  {
   "cell_type": "code",
   "execution_count": 18,
   "metadata": {},
   "outputs": [],
   "source": [
    "# 定义前馈神经网络模型\n",
    "class XORModel(nn.Module):\n",
    "    def __init__(self):\n",
    "        super(XORModel, self).__init__()\n",
    "        self.fc1 = nn.Linear(2, 2)  # 两个隐藏神经元\n",
    "        self.fc2 = nn.Linear(2, 1)  # 一个输出神经元\n",
    "        self.relu = nn.ReLU()\n",
    "        self.sigmoid = nn.Sigmoid()\n",
    "\n",
    "    def forward(self, x):\n",
    "        x = self.relu(self.fc1(x))  # 隐藏层用ReLU作为激活函数\n",
    "        x = self.sigmoid(self.fc2(x))  # 输出层用Sigmoid\n",
    "        return x\n"
   ]
  },
  {
   "cell_type": "code",
   "execution_count": 20,
   "metadata": {},
   "outputs": [
    {
     "name": "stdout",
     "output_type": "stream",
     "text": [
      "Epoch[1], Loss: 0.7025\n",
      "Epoch[1000], Loss: 0.6492\n",
      "Epoch[2000], Loss: 0.5771\n",
      "Epoch[3000], Loss: 0.4912\n",
      "Epoch[4000], Loss: 0.3929\n",
      "Epoch[5000], Loss: 0.3023\n",
      "Epoch[6000], Loss: 0.2245\n",
      "Epoch[7000], Loss: 0.1662\n",
      "Epoch[8000], Loss: 0.1258\n",
      "Epoch[9000], Loss: 0.0980\n",
      "Epoch[10000], Loss: 0.0784\n",
      "Prediction:\n",
      " tensor([[0.],\n",
      "        [1.],\n",
      "        [0.],\n",
      "        [1.]])\n",
      "Actual:\n",
      " tensor([[0.],\n",
      "        [1.],\n",
      "        [0.],\n",
      "        [1.]])\n"
     ]
    }
   ],
   "source": [
    "model = XORModel()\n",
    "criterion = nn.BCELoss()  # 损失函数\n",
    "optimizer = optim.SGD(model.parameters(), lr=0.01)  # 优化器\n",
    "\n",
    "# 训练模型\n",
    "epochs = 10000\n",
    "for epoch in range(epochs):\n",
    "    model.train()\n",
    "    optimizer.zero_grad()\n",
    "    y_pred = model(x)\n",
    "    loss = criterion(y_pred, y)\n",
    "    loss.backward()\n",
    "    optimizer.step()\n",
    "    \n",
    "    if epoch == 0 or (epoch + 1) % 1000 == 0:\n",
    "        print(f'Epoch[{epoch + 1}], Loss: {loss.item():.4f}')\n",
    "    \n",
    "\n",
    "# 测试模型\n",
    "model.eval()\n",
    "with torch.no_grad():\n",
    "    y_pred = torch.round(model(x))  # 四舍五入，将概率映射为结果0或1\n",
    "    print(f'Prediction:\\n {y_pred}')\n",
    "    print(f'Actual:\\n {y}')"
   ]
  }
 ],
 "metadata": {
  "kernelspec": {
   "display_name": "gpuPytorch",
   "language": "python",
   "name": "python3"
  },
  "language_info": {
   "codemirror_mode": {
    "name": "ipython",
    "version": 3
   },
   "file_extension": ".py",
   "mimetype": "text/x-python",
   "name": "python",
   "nbconvert_exporter": "python",
   "pygments_lexer": "ipython3",
   "version": "3.9.19"
  }
 },
 "nbformat": 4,
 "nbformat_minor": 2
}
